{
 "cells": [
  {
   "cell_type": "markdown",
   "metadata": {},
   "source": [
    "Problem statement: find a location to purchase a cost effective  HDB hous for a family with a kid who is going to attend prim school\n",
    "\n",
    "discorvering factors affect the decision:\n",
    "1. School ranking \n",
    "2. Cost psf ranking\n",
    "\n",
    "results looking for:\n",
    "find a most cost effective HDB with near to the high ranking school and cost relatively cheap for a fmaily with one kid at Prim Sch age"
   ]
  }
 ],
 "metadata": {
  "kernelspec": {
   "display_name": "pds",
   "language": "python",
   "name": "python3"
  },
  "language_info": {
   "name": "python",
   "version": "3.10.16"
  }
 },
 "nbformat": 4,
 "nbformat_minor": 2
}
